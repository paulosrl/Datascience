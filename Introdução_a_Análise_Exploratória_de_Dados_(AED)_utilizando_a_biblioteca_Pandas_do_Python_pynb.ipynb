{
  "nbformat": 4,
  "nbformat_minor": 0,
  "metadata": {
    "colab": {
      "name": "Introdução a Análise Exploratória de Dados (AED) utilizando a biblioteca Pandas do Python.pynb",
      "provenance": [],
      "collapsed_sections": [],
      "toc_visible": true,
      "include_colab_link": true
    },
    "kernelspec": {
      "name": "python3",
      "display_name": "Python 3"
    }
  },
  "cells": [
    {
      "cell_type": "markdown",
      "metadata": {
        "id": "view-in-github",
        "colab_type": "text"
      },
      "source": [
        "<a href=\"https://colab.research.google.com/github/paulosrl/Datascience/blob/master/Introdu%C3%A7%C3%A3o_a_An%C3%A1lise_Explorat%C3%B3ria_de_Dados_(AED)_utilizando_a_biblioteca_Pandas_do_Python_pynb.ipynb\" target=\"_parent\"><img src=\"https://colab.research.google.com/assets/colab-badge.svg\" alt=\"Open In Colab\"/></a>"
      ]
    },
    {
      "cell_type": "markdown",
      "metadata": {
        "id": "UNYlDhnOFdq8",
        "colab_type": "text"
      },
      "source": [
        "# **Introdução à Análise Exploratória de Dados utilizando a biblioteca Pandas**\n",
        "---"
      ]
    },
    {
      "cell_type": "markdown",
      "metadata": {
        "id": "3ccinBG7WdeH",
        "colab_type": "text"
      },
      "source": [
        "#**01. Infraestrutra utilizada**\n",
        "\n",
        "* [Google Colab ](https://www.google.com/url?sa=t&rct=j&q=&esrc=s&source=web&cd=&cad=rja&uact=8&ved=2ahUKEwjRgtCVrqDqAhUUKLkGHc6jDnQQFjAAegQIARAC&url=https%3A%2F%2Fcolab.research.google.com%2F&usg=AOvVaw3A5aPK2kLFzKOzb6sOckVw): serviço de nuvem gratuito hospedado pelo Google para incentivar a pesquisa de Aprendizado de Máquina e Inteligência Artificial;\n",
        "* Bibliotecas Python: pandas, matplotlib\n",
        "\n",
        "### Referências sobre a biblioteca **pandas** e **matplotlib**:\n",
        "\n",
        "* [pandas](https://pandas.pydata.org/docs/getting_started/index.html#getting-started) é uma biblioteca para análise de dados em Python, de código aberto, licenciada por BSD, utiliza o conceito de dataframes que funcionam como uma matriz de dados, formada por linhas e colunas.\n",
        "\n",
        "* [pandas](https://pandas.pydata.org/) pandas is a fast, powerful, flexible and easy to use open source data analysis and manipulation tool,\n",
        "built on top of the Python programming language.\n",
        "\n",
        "* Documentação da biblioteca [matplotlib](https://pandas.pydata.org/)).\n",
        "\n",
        "* Exemplos de uso da biblioteca [pandas](https://minerandodados.com.br/analise-de-dados-com-python-usando-pandas/).\n",
        "\n",
        "* Documentação da biblioteca [matplotlib](https://matplotlib.org/)."
      ]
    },
    {
      "cell_type": "code",
      "metadata": {
        "id": "TF8OykVIBKlB",
        "colab_type": "code",
        "colab": {}
      },
      "source": [
        "# importar a biblioteca pandas\n",
        "import pandas as pd\n",
        "import matplotlib.pyplot as plt\n",
        "import datetime\n",
        "import matplotlib.dates as mdates"
      ],
      "execution_count": null,
      "outputs": []
    },
    {
      "cell_type": "markdown",
      "metadata": {
        "id": "cU-Wn8QjbEow",
        "colab_type": "text"
      },
      "source": [
        "# **02. Análise Exploratória de Dados (AED)**\n",
        "A estatística descritiva é a etapa inicial da análise utilizada para descrever e resumir os dados. A disponibilidade de uma grande quantidade de dados e de métodos computacionais muito eficientes revigorou está área da estatística.\n",
        " [Estatística Descritiva stica Descritiva - IME -(Davila, Victor H L)](https://www.ime.unicamp.br/~hlachos/estdescr1.pdf).\n",
        "\n",
        "A Análise Exploratória de Dados começa antes da aplicação de qualquer técnica estatística. É necessário conhecer os dados que serão analisados, se eles estão no formato correto, se possuem algum relacionamento, o signficato exato de cada coluna que irá utilizar da tabela de dados que será analisada.\n",
        "\n",
        "Após a coleta e a digitação de dados em um banco de dados apropriado, o próximo passo é a análise descritiva. Esta etapa é fundamental, pois uma análise descritiva detalhada permite ao pesquisador familiarizar-se com os dados, organizá-los e sintetizá-los de forma a obter as informações necessárias do\n",
        "conjunto de dados para responder as questões que estão sendo estudadas.\n",
        "\n",
        "A Análise Exploratória de Dados vai além do uso descritivo da estatística, procura olhar de forma mais profunda os dados, sem resumir muito a quantidade de informações.\n",
        "\n",
        "[Análise Exploratória de Dados](http://www.each.usp.br/lauretto/SIN5008_2011/aula01/aula1)"
      ]
    },
    {
      "cell_type": "markdown",
      "metadata": {
        "id": "BRQUL-uWbfTA",
        "colab_type": "text"
      },
      "source": [
        "#**03. Apresentação e organização de dados**\n",
        "\n",
        "* A organização dos dados coletados é fundamental para que não hajam erros de processamento e perda de informações;\n",
        "\n",
        "* A apresentação dos dados depende do tipo de variável e daquilo que se quer mostrar;\n",
        "\n",
        "* Tabelas e gráficos podem mostrar a mesma informação, mas alguns são mais apropriados dependendo do objetivo."
      ]
    },
    {
      "cell_type": "markdown",
      "metadata": {
        "id": "fNDlSTScbmZc",
        "colab_type": "text"
      },
      "source": [
        "### **Convenções para os dados de entrada**\n",
        "\n",
        "* Os dados devem estar no formato de matriz (linha x coluna);\n",
        "* Cada linha da matriz corresponde a uma unidade experimental (elemento da população ou amostra no qual observamos as variáveis/colunas da tabela);\n",
        "* Cada coluna da matriz corresponde a uma variável;"
      ]
    },
    {
      "cell_type": "markdown",
      "metadata": {
        "id": "fXToPT1RFeCn",
        "colab_type": "text"
      },
      "source": [
        "### **Dados brutos**\n",
        "\n",
        "* Quando fazemos uma coleta de dados, e armazenamos de forma correta, temos em mãos o que se chama de dados brutos, pois consiste das observações “puras”, sem nenhum tipo de processamento ou resumo;\n",
        "\n",
        "* Uma análise de dados sempre deve começar com uma planilha de dados brutos, pois será a partir deles que iremos resumir e visualizar as informações de interesse."
      ]
    },
    {
      "cell_type": "markdown",
      "metadata": {
        "id": "uhZ0MFRCb5ok",
        "colab_type": "text"
      },
      "source": [
        "### **Gráficos e Resumos Numéricos**\n",
        "\n",
        "Os gráficos constituem uma das formas mais eficientes de apresentação de dados. Um gráfico é, essencialmente, uma figura constituída a partir de uma tabela, pois é quase sempre possível localizar um dado tabulado num gráfico;\n",
        "\n",
        "Enquanto as tabelas fornecem uma idéia mais precisa e possibilitam um tratamento mais rigoroso aos dados, os gráficos são mais indicados para dar uma visão mais rápida de como estão dispostas as variáveis. A qualidade na representação gráfica deve ser pautada na clareza, simplicidade e autoexplicação. As técnicas gráficas desempenham um papel fundamental na AED.\n",
        "\n",
        "![](https://github.com/paulosrl/imagens/blob/master/tipografico.png?raw=true)\n",
        "\n",
        "Fonte: http://www.each.usp.br/lauretto/SIN5008_2011/aula01/aula1\n",
        "\n",
        "Adotaremos dois tipos de gráfico neste documento, para analisar as primeiras análises aos dados numéricos, ambos os gráficos só se aplicam a valores numéricos (quantitativos discretos ou contínuos). Os gráficos são os histogramas e os box-plots. "
      ]
    },
    {
      "cell_type": "markdown",
      "metadata": {
        "id": "glyAUx9Ga2UE",
        "colab_type": "text"
      },
      "source": [
        "# **04. Estatística básica**"
      ]
    },
    {
      "cell_type": "markdown",
      "metadata": {
        "id": "V3n9s5tT-PTB",
        "colab_type": "text"
      },
      "source": [
        "### **Análise univariada**\n",
        "\n",
        "A análise univariada consiste em analisar cada variável da amostra:\n",
        "* Classificar o seu tipo: qualitativa (nominal ou ordinal) ou quantitativa (discreta ou contínua);\n",
        "\n",
        "* Obter tabelas, gráficos e/ou medidas que resumam a variável;\n",
        "\n",
        "* A partir destes resultados pode-se montar um resumo geral dos dados.\n",
        "\n",
        "Quando se estuda uma variável, o maior intersse do pesquisador é conhecer o comportamento dessa variável, analisando a ocorrência de suas possíveis realizações. Nesse sentido, as distribuições de frequência serão o principal recurso utilizado uma única variável."
      ]
    },
    {
      "cell_type": "markdown",
      "metadata": {
        "id": "WZHdgBAdVu8-",
        "colab_type": "text"
      },
      "source": [
        "### **Variáveis**\n",
        "\n",
        "Quando fazemos uma amostragem, coletamos não apenas a informação sobre a característica de interesse, mas diversas outras informações que auxiliarão no entendimento desta característica.\n",
        "\n",
        "Cada uma das características da população amostrada, como peso, altura, sexo ou idade, é denominada de uma variável.\n",
        "\n",
        "As variáveis podem assumir diferentes valores, que basicamente podem ser separados em\n",
        "\n",
        "* Quantitativos ou numéricos\n",
        "* Qualitativos ou não numéricos, ou categóricos\n",
        "\n",
        "![texto alternativo](http://leg.ufpr.br/~fernandomayer/aulas/ce001e-2016-2/img/classificacao_variaveis.png)"
      ]
    },
    {
      "cell_type": "markdown",
      "metadata": {
        "id": "PI6lmLjJKoJl",
        "colab_type": "text"
      },
      "source": [
        "####**Classificação de variáveis**\n",
        "\n",
        "**As variáveis quantitativas ou numéricas podem ser**\n",
        "\n",
        "* Discretas: assumem apenas valores inteiros. Ex.: número de irmãos, número de passageiros;\n",
        "* Contínuas: assume qualquer valor no intervalo dos números reais. Ex.: peso, altura.\n",
        "\n",
        "Fonte: http://leg.ufpr.br/~fernandomayer/aulas/ce001e-2016-2/02_Analise_Exploratoria_de_Dados.html\n",
        "\n",
        "**As variáveis qualitativas ou categóricas podem ser**\n",
        "\n",
        "* Nominais: quando as categorias não possuem uma ordem natural. Ex.: nomes, cores, sexo;\n",
        "* Ordinais: quando as categorias podem ser ordenadas. Ex.: tamanho (pequeno, médio, grande), classe social (baixa, média, alta), grau de instrução (básico, médio, graduação, pós-graduação)."
      ]
    },
    {
      "cell_type": "markdown",
      "metadata": {
        "id": "y5JHbyk4XPsd",
        "colab_type": "text"
      },
      "source": [
        "###**Média**\n",
        "A média aritmética é considerada uma medida de tendência central e é muito utilizada no cotidiano. Surge do resultado da divisão do somatório dos números dados pela quantidade de números somados.\n",
        "\n",
        "Esse tipo de cálculo é muito utilizado em campeonatos de futebol, no intuito de determinar a média de gols da rodada; nas escolas, para o cálculo da média final dos alunos; nas pesquisas estatísticas, pois a média dos resultados determina o direcionamento das ideias expressas pelas pessoas pesquisadas etc.\n"
      ]
    },
    {
      "cell_type": "code",
      "metadata": {
        "id": "14L4qxMhLcee",
        "colab_type": "code",
        "colab": {
          "base_uri": "https://localhost:8080/",
          "height": 34
        },
        "outputId": "79f3e772-860c-4c2f-84ba-fda2ff27c5ce"
      },
      "source": [
        "# calcular a média\n",
        "pd.Series([0,1,0,1,1,1,0,0,0,15,11,10,9]).mean()"
      ],
      "execution_count": null,
      "outputs": [
        {
          "output_type": "execute_result",
          "data": {
            "text/plain": [
              "3.769230769230769"
            ]
          },
          "metadata": {
            "tags": []
          },
          "execution_count": 285
        }
      ]
    },
    {
      "cell_type": "markdown",
      "metadata": {
        "id": "hy_i5KpvUlSn",
        "colab_type": "text"
      },
      "source": [
        "###**Mediana**\n",
        "O termo “mediana” refere-se a “meio”. Dado um conjunto de informações numéricas, o valor central corresponde à mediana desse conjunto. Dessa forma, é importante que esses valores sejam colocados em ordem, seja crescente ou decrescente. Se houver uma quantidade ímpar de valores numéricos, a mediana será o valor central do conjunto numérico. Se a quantidade de valores for um número par, devemos fazer uma média aritmética dos dois números centrais, e esse resultado será o valor da mediana.\n",
        "\n",
        "Fonte: https://brasilescola.uol.com.br/matematica/mediana.htm"
      ]
    },
    {
      "cell_type": "code",
      "metadata": {
        "id": "svOSriZx3mK_",
        "colab_type": "code",
        "colab": {
          "base_uri": "https://localhost:8080/",
          "height": 34
        },
        "outputId": "765b5704-265f-4841-9ce3-bc42204b2ddd"
      },
      "source": [
        "# calcular a mediana\n",
        "pd.Series([0,1,0,1,1,1,0,0,0,15,11,10,9]).median()"
      ],
      "execution_count": null,
      "outputs": [
        {
          "output_type": "execute_result",
          "data": {
            "text/plain": [
              "1.0"
            ]
          },
          "metadata": {
            "tags": []
          },
          "execution_count": 286
        }
      ]
    },
    {
      "cell_type": "markdown",
      "metadata": {
        "id": "q8d-r_2bGehv",
        "colab_type": "text"
      },
      "source": [
        "### **Desvio Padrão**\n",
        "\n",
        "Desvio padrão é uma medida de dispersão em torno da média populacional de uma variável.\n",
        "\n",
        "$$SD = \\sqrt{\\frac{1}{n}\\sum_{i=1}^{n}(x_i - \\overline{x}) ^ 2}$$"
      ]
    },
    {
      "cell_type": "markdown",
      "metadata": {
        "id": "uo6in7Lg_cu9",
        "colab_type": "text"
      },
      "source": [
        "Falando simplificadamente, um número alto do desvio padrão indica que os dados estão bem espelhados em relação à sua média. Já um desvio padrão baixo mostra que os valores estão mais agrupados, mais \"juntos\".\n",
        "\n",
        "Por exemplo, na figura abaixo temos um exemplo de valores altos e baixos para o desvio padrão. Em vermelho os dados estão mais próximos à sua média (**desvio baixo**), e em azul estão bem mais espalhados (**desvio alto**).\n",
        "\n",
        "<center><img src=\"https://upload.wikimedia.org/wikipedia/commons/thumb/f/f9/Comparison_standard_deviations.svg/450px-Comparison_standard_deviations.svg.png\" height=\"450px\">\n",
        "</center>\n",
        "\n",
        "Este exemplo mostra duas populações com médias iguais e desvio padrões diferentes. A população em veremlho tem média 100 e desvio padrão igual a 10, a população em azul, tem média 100 e desvio padrão de 50.\n",
        "\n",
        "Para quem não está acostumado com gráficos de distribuições, um exemplo que funciona muito bem é o do tiro ao alvo.\n",
        "\n",
        "Olhe na figura abaixo como os tiros estão localizados em cada uma das situações. Identifique mentalmente quais tem maior ou menor dispersão, ou seja, desvio padrão.\n",
        "\n",
        "<center><img src=\"https://raw.githubusercontent.com/carlosfab/dsnp2/master/img/precisao_exatidao.jpg\" height=\"450px\"></center>\n",
        "\n",
        "O conceito que eu quero que você se atente é o achatamento da curva. Como os valores se \"aglomeram\" em torno da média ou se dispersam em torno dela. Veja também mais essa outra figura abaixo, colocando as distribuições lado a lado.\n",
        "\n",
        "<center><img src=\"https://raw.githubusercontent.com/carlosfab/dsnp2/master/img/precisao_vs_exatidao2.jpg\" height=\"400px\"></center>\n",
        "\n",
        "Para calcular o desvio padrão de qualquer coluna, basta executar o método `std()` para a variável.\n",
        "\n",
        "* Curso Data Science na Prática 2.0 by [sigmoidal.ai](https://sigmoidal.ai)*\n",
        "\n",
        "É uma medida de separação do conjunto de dados, que mede o quão diferente os valores de um conjunto de dados se diferem entre si, conhecido também como desvio padrão populacional.\n",
        "\n",
        "Na área estatística, o desvio de padrão é chamado especificamente de desvio de padrão amostral. Um baixo desvio indica que os dados estão próximos da média ou do valor esperado. Já um alto desvio padrão, indica que os dados estão espalhados por uma ampla gama de valores.\n",
        "\n",
        "**Conclusões**\n",
        "\n",
        "* O desvio padrão é um valor positivo, indica a distância entre os valores medidos e a média;\n",
        "* O desvio padrão junto a média aritmética, ajudam a entender o quão \"confiável\" é um valor;\n",
        "* Um desvio padrão grande significa que os valores amostrais estão distantes da média;\n",
        "* Um desvio padrão pequeno (próximo de zero) indica que eles estão condensados próximos da média;\n",
        "* Quanto menor o desvio padrão, mais homogênea é a amostra;\n",
        "* Quando o desvio padrão é igual a zero é porque ele é igual a média.\n"
      ]
    },
    {
      "cell_type": "code",
      "metadata": {
        "id": "qeFxL7j139jJ",
        "colab_type": "code",
        "colab": {
          "base_uri": "https://localhost:8080/",
          "height": 34
        },
        "outputId": "8560bbe2-8b1e-426f-fdd3-1f0b40b1da4e"
      },
      "source": [
        "# desvio padrão\n",
        "pd.Series([0,1,0,1,1,1,0,0,0,15,11,10,9]).std()"
      ],
      "execution_count": null,
      "outputs": [
        {
          "output_type": "execute_result",
          "data": {
            "text/plain": [
              "5.372054947501407"
            ]
          },
          "metadata": {
            "tags": []
          },
          "execution_count": 287
        }
      ]
    },
    {
      "cell_type": "markdown",
      "metadata": {
        "id": "C9RA4wrTLJ9L",
        "colab_type": "text"
      },
      "source": [
        "**Referências:** \n",
        "\n",
        "* [Exemplo de média, mediana e moda](https://pt.khanacademy.org/math/ap-statistics/summarizing-quantitative-data-ap/measuring-center-quantitative/v/mean-median-and-mode)\n",
        "* [Medidas de dispersão: intervalo, variância e desvio-padrão](https://pt.khanacademy.org/math/probability/data-distributions-a1/summarizing-spread-distributions/v/range-variance-and-standard-deviation-as-measures-of-dispersion)\n",
        "* [Desvio-padrão amostral e viés](https://pt.khanacademy.org/math/ap-statistics/summarizing-quantitative-data-ap/measuring-spread-quantitative/v/sample-standard-deviation-and-bias) "
      ]
    },
    {
      "cell_type": "markdown",
      "metadata": {
        "id": "r_e4dtgzqSAv",
        "colab_type": "text"
      },
      "source": [
        "### **Histogramas**\n",
        "\n",
        "Um histograma é uma visualização gráfica de dados usando barras de diferentes alturas. Em um histograma, cada barra agrupa números em intervalos. As barras mais altas mostram que mais dados estão nesse intervalo. Um histograma exibe a forma e distribuição de dados amostrais discretos ou contínuos. ([Kanacademy](https://pt.khanacademy.org/math/ap-statistics/quantitative-data-ap/histograms-stem-leaf/v/histograms-intro))\n",
        "\n",
        "O [histograma](https://www.fm2s.com.br/histograma/) permite obter as seguintes informações\n",
        "\n",
        "* Centralidade: qual é o centro de distribuição? Onde é esperado que esteja a maioria das observações?\n",
        "* Amplitude: a distribuição normalmente contém observações entre quais valores? Qual é o ponto de máximo e o ponto de mínimo?\n",
        "* Simetria: será que devemos esperar a mesma frequência de pontos com valor alto e com valor baixo? Será que o processo é simétrico ou valores mais altos são mais raros?\n",
        "\n",
        "Exemplo:\n",
        "\n",
        "Para estudar o comportamento das vendas, um administrador coleta informações sobre o número de itens vendidos nos últimos 30 dias e constrói um histograma com o auxílio do Minitab. Com esse gráfico, ele percebeu que suas vendas variavam entre 28 e 52 unidades e na maioria dos dias ele vendia em torno de 40.\n",
        "\n",
        "\n",
        "![texto alternativo](https://d1lc5plzz0mq74.cloudfront.net/wp-content/uploads/2015/08/21202945/ED_1.png)"
      ]
    },
    {
      "cell_type": "markdown",
      "metadata": {
        "id": "kgQY9xJSV41_",
        "colab_type": "text"
      },
      "source": [
        "#### **Cuidados ao elaborar um Histograma**\n",
        "\n",
        "Um ponto negativo do histograma, quando falamos de análise de dados, é que ele é uma medida estática, ou seja, não leva o tempo em consideração. Por exemplo, eu não sei se todos os dias bons aconteceram na mesma época ou se eles estão dispersos aleatoriamente no processo.\n",
        "\n",
        "Muitas vezes, ter essa informação sobre o período é crucial. Imagine que todos os dias bons aconteceram em uma semana, na qual o administrador estava com uma campanha de marketing em andamento. Ele poderia dizer, com certeza, que a campanha dele foi boa! Da mesma maneira, se todo os dias ruins também tivessem acontecido em uma semana mais fria, ele também entenderia melhor o que impacta nas vendas dele.\n",
        "\n",
        "Ao fazer análises como essa, olhando como os dados se comportam ao longo do tempo, podemos procurar por causas comuns e causas especiais de variação.\n",
        "\n",
        "Fonte: https://www.fm2s.com.br/histograma/\n"
      ]
    },
    {
      "cell_type": "markdown",
      "metadata": {
        "id": "CkO2Ycb9VjkD",
        "colab_type": "text"
      },
      "source": [
        "#### **Considerações sobre os dados com uso de Histograma**\n",
        "\n",
        "Para o gráfico representar seus dados de forma mais eficaz, considere as seguintes diretrizes.\n",
        "\n",
        "**O tamanho amostral deve ser de aproximadamente maior ou igual a 20 unidade;\n",
        "\n",
        "Se o tamanho de amostra for muito pequeno, cada barra no histograma pode não conter pontos de dados suficientes para demonstrar precisamente a distribuição dos dados. \n",
        "\n",
        "Se o tamanho amostral for menor do que 20, considere usar um gráfico de valor individual.\n",
        "\n",
        "* Os dados de amostra devem ser selecionados aleatoriamente;\n",
        "* Amostras aleatórias são usadas para fazer generalizações ou inferências, sobre uma população. Se os dados não foram coletados aleatoriamente, os resultados podem não representar a população.\n",
        "\n",
        "Fonte: https://support.minitab.com/pt-br/minitab/18/help-and-how-to/graphs/how-to/histogram/before-you-start/data-considerations/\n",
        "\n",
        "Um histograma é um gráfico de barras que mostra a distribuição das frequencias de um conjunto de dados quantitavivos contínuos ou discretos.\n",
        "\n",
        "O Exemplo a seguir utiliza dados de sobre expectativa de vidas do Brasil, Bolívia e EUA. Os dados são relativos aos anos de 1960 a 2013 e possui a média em anos de expectativa de vida por país.\n",
        "\n",
        "O arquivo origininal pode ser obtido em: #https://www.kaggle.com/kumarajarshi/life-expectancy-who/data#"
      ]
    },
    {
      "cell_type": "markdown",
      "metadata": {
        "id": "9kWJBZmmF2h4",
        "colab_type": "text"
      },
      "source": [
        "#### **Formas de distribuição de um Histograma**"
      ]
    },
    {
      "cell_type": "markdown",
      "metadata": {
        "id": "CGLnuzb7JeST",
        "colab_type": "text"
      },
      "source": [
        "######**Distribuição normal ou simétrica (curva de sino / Bell Curve)**"
      ]
    },
    {
      "cell_type": "markdown",
      "metadata": {
        "id": "VMHIopCRGJcl",
        "colab_type": "text"
      },
      "source": [
        "\n",
        "\n",
        "Os dados possuem variações pequenas. O pico dos dados fica ao centro do gráfico, e suas variações vão decrescendo de maneira simétrica dos dois lados;\n",
        "\n",
        "![](https://github.com/paulosrl/imagens/blob/master/histogramanormal.png?raw=true)\n",
        "\n"
      ]
    },
    {
      "cell_type": "markdown",
      "metadata": {
        "id": "anJZrNg0ILSZ",
        "colab_type": "text"
      },
      "source": [
        "######**Histograma assimétrico**\n",
        "\n",
        "O pico do histograma é concentrado em um dos lados (espalhado a esquerda ou a direita), e os dados fora de padrão decrescem para o lado oposto;\n",
        "\n"
      ]
    },
    {
      "cell_type": "markdown",
      "metadata": {
        "id": "WThgiZXiJy-L",
        "colab_type": "text"
      },
      "source": [
        "**Espalhado a esquerda**\n",
        "\n",
        "![](https://github.com/paulosrl/imagens/blob/master/histo-esquerda.png?raw=true)\n",
        "\n",
        "**Espalhado a direita**\n",
        "\n",
        "![](https://github.com/paulosrl/imagens/blob/master/histo-direita.png?raw=true)\n"
      ]
    },
    {
      "cell_type": "markdown",
      "metadata": {
        "id": "q-tZDy9pU6UP",
        "colab_type": "text"
      },
      "source": [
        "#### **Análise de Histogramas**"
      ]
    },
    {
      "cell_type": "markdown",
      "metadata": {
        "id": "Gx15DV4rVCvV",
        "colab_type": "text"
      },
      "source": [
        "###### **Análise de histograma por coluna de dados**"
      ]
    },
    {
      "cell_type": "code",
      "metadata": {
        "id": "qzOCf8r6rkZ3",
        "colab_type": "code",
        "colab": {
          "base_uri": "https://localhost:8080/",
          "height": 621
        },
        "outputId": "1fcec5a3-75af-4c03-952e-75069eadd9af"
      },
      "source": [
        "#Brasil\n",
        "vExpectativaBrasil = [54.69214634,55.16963415,55.63309756,56.08,56.51029268,56.92387805,57.32319512,57.7117561,58.09460976,58.47529268,58.85697561,59.24436585,59.63753659,60.0355122,60.43819512,60.83978049,61.23543902,61.62039024,61.9925122,62.35382927,62.70604878,63.05646341,63.4104878,63.77392683,64.14792683,64.53253659,64.92614634,65.32353659,65.72207317,66.11921951,66.515,66.90997561,67.30573171,67.70080488,68.09465854,68.48273171,68.86195122,69.23121951,69.58746341,69.92968293,70.25739024,70.56965854,70.86956098,71.15960976,71.44178049,71.71853659,71.99178049,72.26290244,72.53387805,72.80417073,73.07531707,73.34736585,73.61787805,73.88595122]\n",
        "fig, ax = plt.subplots(1, 1, figsize=(15, 10))\n",
        "plt.hist(vExpectativaBrasil)\n",
        "#parâmetros do gráfico\n",
        "vTitulo='Análise de Expectativa de Vida de 1960 a 2013'\n",
        "vRotuloY='Frequencia de Idades'\n",
        "vRotuloX='Idade'\n",
        "\n",
        "#exibição do gráfico\n",
        "ax.set_title(vTitulo)\n",
        "ax.set_ylabel(vRotuloY)\n",
        "ax.set_xlabel(vRotuloX)\n",
        "\n",
        "plt.show()"
      ],
      "execution_count": null,
      "outputs": [
        {
          "output_type": "display_data",
          "data": {
            "image/png": "[encoded data removed]",
            "text/plain": [
              "<Figure size 1080x720 with 1 Axes>"
            ]
          },
          "metadata": {
            "tags": [],
            "needs_background": "light"
          }
        }
      ]
    },
    {
      "cell_type": "code",
      "metadata": {
        "id": "MDSGWMZz0Q62",
        "colab_type": "code",
        "colab": {
          "base_uri": "https://localhost:8080/",
          "height": 621
        },
        "outputId": "025236c4-812a-458a-bf17-13d8fe1ed0f2"
      },
      "source": [
        "#Bolivia\n",
        "vExpectativaVidaBolivia = [42.66812195,42.97687805,43.28914634,43.60341463,43.92117073,44.23641463,44.54312195,44.84078049,45.13641463,45.43956098,45.76626829,46.13563415,46.56017073,47.05041463,47.60787805,48.23297561,48.92019512,49.65292683,50.41363415,51.18980488,51.96843902,52.74312195,53.50836585,54.26021951,54.98965854,55.69212195,56.36504878,57.01036585,57.6295122,58.21943902,58.77858537,59.30241463,59.79297561,60.25178049,60.68290244,61.09087805,61.48029268,61.85721951,62.22621951,62.59182927,62.95460976,63.31553659,63.67160976,64.02026829,64.3635122,64.70078049,65.03309756,65.36190244,65.68570732,66.00546341,66.31970732,66.62692683,66.92663415,67.21736585]\n",
        "fig, ax = plt.subplots(1, 1, figsize=(15, 10))\n",
        "plt.hist(vExpectativaVidaBolivia)\n",
        "\n",
        "#parâmetros do gráfico\n",
        "vTitulo='Análise de Expectativa de Vida de 1960 a 2013'\n",
        "vRotuloY='Frequencia de Idades'\n",
        "vRotuloX='Idade'\n",
        "\n",
        "\n",
        "#exibição do gráfico\n",
        "ax.set_title(vTitulo)\n",
        "ax.set_ylabel(vRotuloY)\n",
        "ax.set_xlabel(vRotuloX)\n",
        "\n",
        "plt.show()\n"
      ],
      "execution_count": null,
      "outputs": [
        {
          "output_type": "display_data",
          "data": {
            "image/png": "[encoded data removed]",
            "text/plain": [
              "<Figure size 1080x720 with 1 Axes>"
            ]
          },
          "metadata": {
            "tags": [],
            "needs_background": "light"
          }
        }
      ]
    },
    {
      "cell_type": "code",
      "metadata": {
        "id": "q_QdN-Nv1CTJ",
        "colab_type": "code",
        "colab": {
          "base_uri": "https://localhost:8080/",
          "height": 621
        },
        "outputId": "ebb57422-00de-429d-9417-414b82243ced"
      },
      "source": [
        "#EUA\n",
        "vExpectativaVidaEUA = [69.77073171,70.27073171,70.1195122,69.91707317,70.16585366,70.21463415,70.21219512,70.56097561,69.95121951,70.50731707,70.80731707,71.10731707,71.15609756,71.35609756,71.95609756,72.60487805,72.85609756,73.25609756,73.35609756,73.80487805,73.65853659,74.00731707,74.36097561,74.46341463,74.56341463,74.56341463,74.61463415,74.76585366,74.76585366,75.01707317,75.21463415,75.36585366,75.64219512,75.4195122,75.57439024,75.62195122,75.99658537,76.42926829,76.5804878,76.58292683,76.63658537,76.73658537,76.83658537,76.98780488,77.33902439,77.33902439,77.58780488,77.83902439,77.93902439,78.0902439,78.54146341,78.64146341,78.74146341,78.84146341]\n",
        "fig, ax = plt.subplots(1, 1, figsize=(15, 10))\n",
        "plt.hist(vExpectativaVidaEUA)\n",
        "\n",
        "#parâmetros do gráfico\n",
        "vTitulo='Análise de Expectativa de Vida de 1960 a 2013'\n",
        "vRotuloY='Frequencia de Idades'\n",
        "vRotuloX='Idade'\n",
        "\n",
        "\n",
        "#exibição do gráfico\n",
        "ax.set_title(vTitulo)\n",
        "ax.set_ylabel(vRotuloY)\n",
        "ax.set_xlabel(vRotuloX)\n",
        "\n",
        "plt.show()\n",
        "\n"
      ],
      "execution_count": null,
      "outputs": [
        {
          "output_type": "display_data",
          "data": {
            "image/png": "[encoded data removed]",
            "text/plain": [
              "<Figure size 1080x720 with 1 Axes>"
            ]
          },
          "metadata": {
            "tags": [],
            "needs_background": "light"
          }
        }
      ]
    },
    {
      "cell_type": "markdown",
      "metadata": {
        "id": "2HIXDr70UC-i",
        "colab_type": "text"
      },
      "source": [
        "###### **Análise de histogramas comparando três colunas de dados (países)**"
      ]
    },
    {
      "cell_type": "code",
      "metadata": {
        "id": "sBcBktKxHwZJ",
        "colab_type": "code",
        "colab": {
          "base_uri": "https://localhost:8080/",
          "height": 621
        },
        "outputId": "5f73b4d6-f929-4574-de44-a2733cd901c7"
      },
      "source": [
        "# Comparação dos 3 histogramas\n",
        "vExpectativaVidaBrasil = [54.69214634,55.16963415,55.63309756,56.08,56.51029268,56.92387805,57.32319512,57.7117561,58.09460976,58.47529268,58.85697561,59.24436585,59.63753659,60.0355122,60.43819512,60.83978049,61.23543902,61.62039024,61.9925122,62.35382927,62.70604878,63.05646341,63.4104878,63.77392683,64.14792683,64.53253659,64.92614634,65.32353659,65.72207317,66.11921951,66.515,66.90997561,67.30573171,67.70080488,68.09465854,68.48273171,68.86195122,69.23121951,69.58746341,69.92968293,70.25739024,70.56965854,70.86956098,71.15960976,71.44178049,71.71853659,71.99178049,72.26290244,72.53387805,72.80417073,73.07531707,73.34736585,73.61787805,73.88595122]\n",
        "vExpectativaVidaBolivia = [42.66812195,42.97687805,43.28914634,43.60341463,43.92117073,44.23641463,44.54312195,44.84078049,45.13641463,45.43956098,45.76626829,46.13563415,46.56017073,47.05041463,47.60787805,48.23297561,48.92019512,49.65292683,50.41363415,51.18980488,51.96843902,52.74312195,53.50836585,54.26021951,54.98965854,55.69212195,56.36504878,57.01036585,57.6295122,58.21943902,58.77858537,59.30241463,59.79297561,60.25178049,60.68290244,61.09087805,61.48029268,61.85721951,62.22621951,62.59182927,62.95460976,63.31553659,63.67160976,64.02026829,64.3635122,64.70078049,65.03309756,65.36190244,65.68570732,66.00546341,66.31970732,66.62692683,66.92663415,67.21736585]\n",
        "vExpectativaVidaEUA = [69.77073171,70.27073171,70.1195122,69.91707317,70.16585366,70.21463415,70.21219512,70.56097561,69.95121951,70.50731707,70.80731707,71.10731707,71.15609756,71.35609756,71.95609756,72.60487805,72.85609756,73.25609756,73.35609756,73.80487805,73.65853659,74.00731707,74.36097561,74.46341463,74.56341463,74.56341463,74.61463415,74.76585366,74.76585366,75.01707317,75.21463415,75.36585366,75.64219512,75.4195122,75.57439024,75.62195122,75.99658537,76.42926829,76.5804878,76.58292683,76.63658537,76.73658537,76.83658537,76.98780488,77.33902439,77.33902439,77.58780488,77.83902439,77.93902439,78.0902439,78.54146341,78.64146341,78.74146341,78.84146341]\n",
        "#dados = {'Brasil': vEexpectativaVidaBrasil, 'Bolivia': vEexpectativaVidaBolivia,'EUA':vEexpectativaVidaEUA}\n",
        "#df = pd.DataFrame(data=dados)\n",
        "\n",
        "plt.figure(figsize=(15, 10))\n",
        "plt.title('Brasil X Bolívia X EUA - Média de expectativa de vida')\n",
        "plt.xlabel('Média de Idade')\n",
        "plt.ylabel('Frequência por Idade')\n",
        "\n",
        "plt.hist(vExpectativaVidaBrasil, \n",
        "         alpha=0.4, label='Brasil', color='#86E283')\n",
        "plt.hist(vExpectativaVidaBolivia, \n",
        "         alpha=0.4, label='Bolivia', color='#FBFF65')\n",
        "plt.hist(vExpectativaVidaEUA, \n",
        "         alpha=0.4, label='EUA', color='#65A8FF')\n",
        "\n",
        "plt.legend();"
      ],
      "execution_count": null,
      "outputs": [
        {
          "output_type": "display_data",
          "data": {
            "image/png": "[encoded data removed]",
            "text/plain": [
              "<Figure size 1080x720 with 1 Axes>"
            ]
          },
          "metadata": {
            "tags": [],
            "needs_background": "light"
          }
        }
      ]
    },
    {
      "cell_type": "markdown",
      "metadata": {
        "id": "ezUyffDFXUV4",
        "colab_type": "text"
      },
      "source": [
        "###**Boxplots**\n",
        "Use o Boxplot para avaliar e comparar o formato, tendência central e variabilidade de distribuições de amostra, e para procurar por outliers. Um boxplot funciona melhor quando o tamanho amostral é de pelo menos 20. Por padrão, um boxplot demonstra a mediana, amplitude interquartil, amplitude e outliers para cada grupo.\n",
        "\n",
        "Fonte: https://support.minitab.com/pt-br/minitab/18/help-and-how-to/graphs/how-to/boxplot/before-you-start/overview/\n"
      ]
    },
    {
      "cell_type": "markdown",
      "metadata": {
        "id": "9mGmas6bdD6r",
        "colab_type": "text"
      },
      "source": [
        "##### **Análise de Boxplots por coluna de dados**"
      ]
    },
    {
      "cell_type": "code",
      "metadata": {
        "id": "40ti0mHzYs5W",
        "colab_type": "code",
        "colab": {
          "base_uri": "https://localhost:8080/",
          "height": 607
        },
        "outputId": "8efdd384-ca44-4825-b145-43ffd062899d"
      },
      "source": [
        "#Brasil\n",
        "vExpectativaBrasil = [54.69214634,55.16963415,55.63309756,56.08,56.51029268,56.92387805,57.32319512,57.7117561,58.09460976,58.47529268,58.85697561,59.24436585,59.63753659,60.0355122,60.43819512,60.83978049,61.23543902,61.62039024,61.9925122,62.35382927,62.70604878,63.05646341,63.4104878,63.77392683,64.14792683,64.53253659,64.92614634,65.32353659,65.72207317,66.11921951,66.515,66.90997561,67.30573171,67.70080488,68.09465854,68.48273171,68.86195122,69.23121951,69.58746341,69.92968293,70.25739024,70.56965854,70.86956098,71.15960976,71.44178049,71.71853659,71.99178049,72.26290244,72.53387805,72.80417073,73.07531707,73.34736585,73.61787805,73.88595122]\n",
        "fig, ax = plt.subplots(figsize=(10,10))\n",
        "ax.set_title('Distribuição da Média da Expectativa de vida - Brasil (1960 a 2013)')\n",
        "ax.boxplot(vExpectativaBrasil);\n"
      ],
      "execution_count": null,
      "outputs": [
        {
          "output_type": "display_data",
          "data": {
            "image/png": "[encoded data removed]",
            "text/plain": [
              "<Figure size 720x720 with 1 Axes>"
            ]
          },
          "metadata": {
            "tags": [],
            "needs_background": "light"
          }
        }
      ]
    },
    {
      "cell_type": "code",
      "metadata": {
        "id": "Cqxf717AaYOc",
        "colab_type": "code",
        "colab": {
          "base_uri": "https://localhost:8080/",
          "height": 607
        },
        "outputId": "ff616025-5007-41e9-db09-c1a4d28a0de7"
      },
      "source": [
        "#Bolívia\n",
        "vExpectativaVidaBolivia = [42.66812195,42.97687805,43.28914634,43.60341463,43.92117073,44.23641463,44.54312195,44.84078049,45.13641463,45.43956098,45.76626829,46.13563415,46.56017073,47.05041463,47.60787805,48.23297561,48.92019512,49.65292683,50.41363415,51.18980488,51.96843902,52.74312195,53.50836585,54.26021951,54.98965854,55.69212195,56.36504878,57.01036585,57.6295122,58.21943902,58.77858537,59.30241463,59.79297561,60.25178049,60.68290244,61.09087805,61.48029268,61.85721951,62.22621951,62.59182927,62.95460976,63.31553659,63.67160976,64.02026829,64.3635122,64.70078049,65.03309756,65.36190244,65.68570732,66.00546341,66.31970732,66.62692683,66.92663415,67.21736585]\n",
        "fig, ax = plt.subplots(figsize=(10,10))\n",
        "ax.set_title('Distribuição da Média da Expectativa de vida - Brasil (1960 a 2013)')\n",
        "ax.boxplot(vExpectativaVidaBolivia);\n"
      ],
      "execution_count": null,
      "outputs": [
        {
          "output_type": "display_data",
          "data": {
            "image/png": "[encoded data removed]",
            "text/plain": [
              "<Figure size 720x720 with 1 Axes>"
            ]
          },
          "metadata": {
            "tags": [],
            "needs_background": "light"
          }
        }
      ]
    },
    {
      "cell_type": "code",
      "metadata": {
        "id": "J32kcc7majFM",
        "colab_type": "code",
        "colab": {
          "base_uri": "https://localhost:8080/",
          "height": 607
        },
        "outputId": "2b553b3a-1af1-4474-a456-71135508e3fe"
      },
      "source": [
        "#EUA\n",
        "vExpectativaVidaEUA = [69.77073171,70.27073171,70.1195122,69.91707317,70.16585366,70.21463415,70.21219512,70.56097561,69.95121951,70.50731707,70.80731707,71.10731707,71.15609756,71.35609756,71.95609756,72.60487805,72.85609756,73.25609756,73.35609756,73.80487805,73.65853659,74.00731707,74.36097561,74.46341463,74.56341463,74.56341463,74.61463415,74.76585366,74.76585366,75.01707317,75.21463415,75.36585366,75.64219512,75.4195122,75.57439024,75.62195122,75.99658537,76.42926829,76.5804878,76.58292683,76.63658537,76.73658537,76.83658537,76.98780488,77.33902439,77.33902439,77.58780488,77.83902439,77.93902439,78.0902439,78.54146341,78.64146341,78.74146341,78.84146341]\n",
        "fig, ax = plt.subplots(figsize=(10,10))\n",
        "ax.set_title('Distribuição da Média da Expectativa de vida - Brasil (1960 a 2013)')\n",
        "ax.boxplot(vExpectativaVidaEUA);"
      ],
      "execution_count": null,
      "outputs": [
        {
          "output_type": "display_data",
          "data": {
            "image/png": "[encoded data removed]",
            "text/plain": [
              "<Figure size 720x720 with 1 Axes>"
            ]
          },
          "metadata": {
            "tags": [],
            "needs_background": "light"
          }
        }
      ]
    },
    {
      "cell_type": "markdown",
      "metadata": {
        "id": "z_Y9eCfQdZJ7",
        "colab_type": "text"
      },
      "source": [
        "##### **Análise de Boxplots comparando três colunas de dados (países)**"
      ]
    },
    {
      "cell_type": "code",
      "metadata": {
        "id": "ybDFl16LavJ8",
        "colab_type": "code",
        "colab": {
          "base_uri": "https://localhost:8080/",
          "height": 700
        },
        "outputId": "e79cb344-5c8e-48ec-8813-c6f2b892a87a"
      },
      "source": [
        "#dados por país\n",
        "vExpectativaVidaBrasil = [54.69214634,55.16963415,55.63309756,56.08,56.51029268,56.92387805,57.32319512,57.7117561,58.09460976,58.47529268,58.85697561,59.24436585,59.63753659,60.0355122,60.43819512,60.83978049,61.23543902,61.62039024,61.9925122,62.35382927,62.70604878,63.05646341,63.4104878,63.77392683,64.14792683,64.53253659,64.92614634,65.32353659,65.72207317,66.11921951,66.515,66.90997561,67.30573171,67.70080488,68.09465854,68.48273171,68.86195122,69.23121951,69.58746341,69.92968293,70.25739024,70.56965854,70.86956098,71.15960976,71.44178049,71.71853659,71.99178049,72.26290244,72.53387805,72.80417073,73.07531707,73.34736585,73.61787805,73.88595122]\n",
        "vExpectativaVidaBolivia = [42.66812195,42.97687805,43.28914634,43.60341463,43.92117073,44.23641463,44.54312195,44.84078049,45.13641463,45.43956098,45.76626829,46.13563415,46.56017073,47.05041463,47.60787805,48.23297561,48.92019512,49.65292683,50.41363415,51.18980488,51.96843902,52.74312195,53.50836585,54.26021951,54.98965854,55.69212195,56.36504878,57.01036585,57.6295122,58.21943902,58.77858537,59.30241463,59.79297561,60.25178049,60.68290244,61.09087805,61.48029268,61.85721951,62.22621951,62.59182927,62.95460976,63.31553659,63.67160976,64.02026829,64.3635122,64.70078049,65.03309756,65.36190244,65.68570732,66.00546341,66.31970732,66.62692683,66.92663415,67.21736585]\n",
        "vExpectativaVidaEUA = [69.77073171,70.27073171,70.1195122,69.91707317,70.16585366,70.21463415,70.21219512,70.56097561,69.95121951,70.50731707,70.80731707,71.10731707,71.15609756,71.35609756,71.95609756,72.60487805,72.85609756,73.25609756,73.35609756,73.80487805,73.65853659,74.00731707,74.36097561,74.46341463,74.56341463,74.56341463,74.61463415,74.76585366,74.76585366,75.01707317,75.21463415,75.36585366,75.64219512,75.4195122,75.57439024,75.62195122,75.99658537,76.42926829,76.5804878,76.58292683,76.63658537,76.73658537,76.83658537,76.98780488,77.33902439,77.33902439,77.58780488,77.83902439,77.93902439,78.0902439,78.54146341,78.64146341,78.74146341,78.84146341]\n",
        "# juntar os dados em um dataset de registros\n",
        "dados = {'Brasil': vExpectativaVidaBrasil, 'Bolivia': vExpectativaVidaBolivia,'EUA':vExpectativaVidaEUA}\n",
        "df = pd.DataFrame(data=dados)\n",
        "boxplot = df.boxplot(column=['Brasil','Bolivia','EUA'],grid=True,figsize=(20,12))\n"
      ],
      "execution_count": null,
      "outputs": [
        {
          "output_type": "display_data",
          "data": {
            "image/png": "[encoded data removed]",
            "text/plain": [
              "<Figure size 1440x864 with 1 Axes>"
            ]
          },
          "metadata": {
            "tags": [],
            "needs_background": "light"
          }
        }
      ]
    },
    {
      "cell_type": "markdown",
      "metadata": {
        "id": "sM6L2AbaStLH",
        "colab_type": "text"
      },
      "source": [
        "### **Exemplo: analisando a Média, Mediana, Moda, Desvio Padrão, Histograma e Boxplot**\n",
        "\n",
        "Os dados a seguir mostram três tipos de situações, dados pouco dispersos, dados muito dispersos e dados com uma distribuição normal. \n",
        "\n",
        "O Exemplo a seguir contém os dados de três sites (site1, site2 e site3), cada valor representa o número de acessos que o respectivo teve em um dia, foram coletados os dados de 60 dias."
      ]
    },
    {
      "cell_type": "code",
      "metadata": {
        "id": "Yty_bs9IzWnD",
        "colab_type": "code",
        "colab": {}
      },
      "source": [
        "# dados com números de acessos a três sites, cada valor representa o número de acessos por dia\n",
        "site1=[57 , 55 , 90 , 76 , 58 , 73 , 75 , 71 , 45 , 65 , 80 , 79 , 65 , 78 , 66 , 58 , 57 , 67 , 54 , 71 , 56 , 69 , 64 , 86 , 66 , 71 , 75 , 77 , 81 , 83 , 74 , 75 , 65 , 75 , 66 , 74 , 67 , 54 , 67 , 83 , 79 , 61 , 75 , 63 , 78 , 75 , 73 , 98 , 81 , 80 , 80 , 76 , 70 , 68 , 62 , 46 , 72 , 71 , 85 , 70] \n",
        "site2=[45 , 10 , 90 , 76 , 46 , 73 , 20 , 71 , 45 , 65 , 80 , 79 , 97 , 78 , 66 , 60 , 50 , 98 , 50 , 30 , 45 , 69 , 64 , 86 , 70 , 51 , 75 , 77 , 45 , 83 , 85 , 98 , 52 , 20 , 27 , 88 , 49 , 99 , 92 , 83 , 79 , 68 , 99 , 68 , 94 , 80 , 45 , 98 , 88 , 95 , 99 , 76 , 70 , 67 , 93 , 55 , 95 , 92 , 98 , 6] \n",
        "site3=[10 , 10 , 10 , 76 , 12 , 73 , 20 , 9 , 45 , 55 , 9 , 79 , 97 , 78 , 8 , 60 , 5 , 33 , 50 , 30 , 45 , 59 , 7 , 86 , 70 , 12 , 75 , 7 , 25 , 37 , 35 , 37 , 25 , 20 , 27 , 88 , 49 , 4 , 80 , 7 , 28 , 59 , 27 , 68 , 23 , 3 , 45 , 29 , 34 , 35 , 24 , 60 , 50 , 59 , 25 , 55 , 95 , 34 , 35 , 6] \n"
      ],
      "execution_count": null,
      "outputs": []
    },
    {
      "cell_type": "code",
      "metadata": {
        "id": "tkoK0MgV7lNd",
        "colab_type": "code",
        "colab": {
          "base_uri": "https://localhost:8080/",
          "height": 102
        },
        "outputId": "b16464c8-5935-4a9b-d65b-c0a539a767fb"
      },
      "source": [
        "# Analisando os dados do Site 1\n",
        "# podemos perceber que a média está muito próxima da mediana o que \n",
        "# sugere um desvio padrão baixo e uma distribuição normal dos dados.\n",
        "site = site1\n",
        "a=pd.Series(site).mean()\n",
        "b=pd.Series(site).median()\n",
        "c=pd.Series(site).std()\n",
        "d=pd.Series(site).mode()\n",
        "print('Media = ',a)\n",
        "print('Mediana = ',b)\n",
        "print('Desvio Padrão = ',c)\n",
        "print('Moda = ',d)"
      ],
      "execution_count": null,
      "outputs": [
        {
          "output_type": "stream",
          "text": [
            "Media =  70.51666666666667\n",
            "Mediana =  71.0\n",
            "Desvio Padrão =  10.32766839433165\n",
            "Moda =  0    75\n",
            "dtype: int64\n"
          ],
          "name": "stdout"
        }
      ]
    },
    {
      "cell_type": "code",
      "metadata": {
        "id": "8exgwlovktJ0",
        "colab_type": "code",
        "colab": {
          "base_uri": "https://localhost:8080/",
          "height": 483
        },
        "outputId": "55975289-8246-4c3c-8089-569f10e8733e"
      },
      "source": [
        "# Histograma do Site 1 \n",
        "# Espera-se o distribuição simétrica dos dados\n",
        "s=site1\n",
        "fig, ax = plt.subplots(figsize=(8, 8))\n",
        "plt.hist(s, bins=7);"
      ],
      "execution_count": null,
      "outputs": [
        {
          "output_type": "display_data",
          "data": {
            "image/png": "[encoded data removed]",
            "text/plain": [
              "<Figure size 576x576 with 1 Axes>"
            ]
          },
          "metadata": {
            "tags": [],
            "needs_background": "light"
          }
        }
      ]
    },
    {
      "cell_type": "code",
      "metadata": {
        "id": "hrsrCFC9k5i1",
        "colab_type": "code",
        "colab": {
          "base_uri": "https://localhost:8080/",
          "height": 483
        },
        "outputId": "3f37869c-acd9-41f7-e8fb-5361d4c58629"
      },
      "source": [
        "# Boxplot do Site 1 \n",
        "# Espera-se o distribuição simétrica dos dados\n",
        "s=site1\n",
        "fig, ax = plt.subplots(figsize=(8,8))\n",
        "ax.boxplot(s);"
      ],
      "execution_count": null,
      "outputs": [
        {
          "output_type": "display_data",
          "data": {
            "image/png": "[encoded data removed]",
            "text/plain": [
              "<Figure size 576x576 with 1 Axes>"
            ]
          },
          "metadata": {
            "tags": [],
            "needs_background": "light"
          }
        }
      ]
    },
    {
      "cell_type": "code",
      "metadata": {
        "id": "_HMmYyEo-Wl7",
        "colab_type": "code",
        "colab": {
          "base_uri": "https://localhost:8080/",
          "height": 102
        },
        "outputId": "8117c8ec-0e0f-4d23-e651-5357f63a875f"
      },
      "source": [
        "# Analisando os dados do Site 2\n",
        "# podemos perceber que a média se afasta da mediana o que \n",
        "# sugere um maior desvio padrão baixo e uma \n",
        "# distribuição mais espalhada dos dados.\n",
        "site = site2\n",
        "a=pd.Series(site).mean()\n",
        "b=pd.Series(site).median()\n",
        "c=pd.Series(site).std()\n",
        "d=pd.Series(site).mode()\n",
        "print('Media = ',a)\n",
        "print('Mediana = ',b)\n",
        "print('Desvio Padrão = ',c)\n",
        "print('Moda = ',d)"
      ],
      "execution_count": null,
      "outputs": [
        {
          "output_type": "stream",
          "text": [
            "Media =  69.2\n",
            "Mediana =  74.0\n",
            "Desvio Padrão =  24.116103347721122\n",
            "Moda =  0    45\n",
            "dtype: int64\n"
          ],
          "name": "stdout"
        }
      ]
    },
    {
      "cell_type": "code",
      "metadata": {
        "id": "m2gshL4iktUu",
        "colab_type": "code",
        "colab": {
          "base_uri": "https://localhost:8080/",
          "height": 592
        },
        "outputId": "73fc2a6c-a683-4893-abf9-e12235d1e701"
      },
      "source": [
        "# Histograma do Site 2 \n",
        "# histograma com espalhamento a esquerda\n",
        "s=site2\n",
        "fig, ax = plt.subplots(figsize=(10, 10))\n",
        "plt.hist(s, bins=7);"
      ],
      "execution_count": null,
      "outputs": [
        {
          "output_type": "display_data",
          "data": {
            "image/png": "[encoded data removed]",
            "text/plain": [
              "<Figure size 720x720 with 1 Axes>"
            ]
          },
          "metadata": {
            "tags": [],
            "needs_background": "light"
          }
        }
      ]
    },
    {
      "cell_type": "code",
      "metadata": {
        "id": "FKgYfhqXlAFM",
        "colab_type": "code",
        "colab": {
          "base_uri": "https://localhost:8080/",
          "height": 592
        },
        "outputId": "82d955d1-b1ab-4f72-a301-2ec20bec87c3"
      },
      "source": [
        "# Boxplot do Site 2 \n",
        "# Espera-se o distribuição com espalhamento dos dados\n",
        "# os dados devem tender para os maiores valores em função do \n",
        "# que foi observado no histograma \n",
        "s=site2\n",
        "fig, ax = plt.subplots(figsize=(10,10))\n",
        "ax.boxplot(s);"
      ],
      "execution_count": null,
      "outputs": [
        {
          "output_type": "display_data",
          "data": {
            "image/png": "[encoded data removed]",
            "text/plain": [
              "<Figure size 720x720 with 1 Axes>"
            ]
          },
          "metadata": {
            "tags": [],
            "needs_background": "light"
          }
        }
      ]
    },
    {
      "cell_type": "code",
      "metadata": {
        "id": "BvGz3yISCerZ",
        "colab_type": "code",
        "colab": {
          "base_uri": "https://localhost:8080/",
          "height": 187
        },
        "outputId": "c7b18dc7-cf38-4a3a-d7e5-a7198ab0f6c4"
      },
      "source": [
        "# Analisando os dados do Site 3\n",
        "# podemos perceber que a média se afasta da mediana o que \n",
        "# sugere um maior desvio padrão baixo e uma \n",
        "# distribuição mais espalhada dos dados.\n",
        "site = site3\n",
        "a=pd.Series(site).mean()\n",
        "b=pd.Series(site).median()\n",
        "c=pd.Series(site).std()\n",
        "d=pd.Series(site).mode()\n",
        "print('Media = ',a)\n",
        "print('Mediana = ',b)\n",
        "print('Desvio Padrão = ',c)\n",
        "print('Moda = ',d)"
      ],
      "execution_count": null,
      "outputs": [
        {
          "output_type": "stream",
          "text": [
            "Media =  39.3\n",
            "Mediana =  34.5\n",
            "Desvio Padrão =  26.5778676881246\n",
            "Moda =  0     7\n",
            "1    10\n",
            "2    25\n",
            "3    35\n",
            "4    45\n",
            "5    59\n",
            "dtype: int64\n"
          ],
          "name": "stdout"
        }
      ]
    },
    {
      "cell_type": "code",
      "metadata": {
        "id": "o1jcRHYjktfO",
        "colab_type": "code",
        "colab": {
          "base_uri": "https://localhost:8080/",
          "height": 592
        },
        "outputId": "c3857249-7ae7-4067-9126-075dd79f98e1"
      },
      "source": [
        "# Histograma do Site 3 \n",
        "# histograma com espalhamento a direita\n",
        "s=site3\n",
        "fig, ax = plt.subplots(figsize=(10, 10))\n",
        "plt.hist(s, bins=7);"
      ],
      "execution_count": null,
      "outputs": [
        {
          "output_type": "display_data",
          "data": {
            "image/png": "[encoded data removed]",
            "text/plain": [
              "<Figure size 720x720 with 1 Axes>"
            ]
          },
          "metadata": {
            "tags": [],
            "needs_background": "light"
          }
        }
      ]
    },
    {
      "cell_type": "code",
      "metadata": {
        "id": "6bZ4z2pwlDKp",
        "colab_type": "code",
        "colab": {
          "base_uri": "https://localhost:8080/",
          "height": 592
        },
        "outputId": "a17efe91-9767-4e50-b525-7ce1f05da079"
      },
      "source": [
        "# Boxplot do Site 3 \n",
        "# Espera-se o distribuição com espalhamento dos dados\n",
        "# os dados devem tender para os menores valores em função do \n",
        "# que foi observado no histograma \n",
        "s=site3\n",
        "fig, ax = plt.subplots(figsize=(10,10))\n",
        "ax.boxplot(s);"
      ],
      "execution_count": null,
      "outputs": [
        {
          "output_type": "display_data",
          "data": {
            "image/png": "[encoded data removed]",
            "text/plain": [
              "<Figure size 720x720 with 1 Axes>"
            ]
          },
          "metadata": {
            "tags": [],
            "needs_background": "light"
          }
        }
      ]
    },
    {
      "cell_type": "code",
      "metadata": {
        "id": "KmCTG5HMN03U",
        "colab_type": "code",
        "colab": {
          "base_uri": "https://localhost:8080/",
          "height": 730
        },
        "outputId": "6211acfd-30a9-427c-ecb3-b53a5a1a8ced"
      },
      "source": [
        "plt.figure(figsize=(20, 12))\n",
        "plt.title('Site1 X Site2 X Site3')\n",
        "plt.xlabel('Acessos')\n",
        "plt.ylabel('Frequência de Acessos')\n",
        "\n",
        "plt.hist(site1, \n",
        "         label='site1', alpha=0.4,color='#86E283',bins=7)\n",
        "plt.hist(site2, \n",
        "         label='site2', alpha=0.4,color='#FBFF65',bins=7)\n",
        "plt.hist(site3, \n",
        "         label='site3', alpha=0.4, color='#65A8FF',bins=7)\n",
        "\n",
        "plt.legend();"
      ],
      "execution_count": null,
      "outputs": [
        {
          "output_type": "display_data",
          "data": {
            "image/png": "[encoded data removed]",
            "text/plain": [
              "<Figure size 1440x864 with 1 Axes>"
            ]
          },
          "metadata": {
            "tags": [],
            "needs_background": "light"
          }
        }
      ]
    }
  ]
}